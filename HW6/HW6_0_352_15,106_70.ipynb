{
  "nbformat": 4,
  "nbformat_minor": 0,
  "metadata": {
    "accelerator": "GPU",
    "colab": {
      "name": "HW6_0.352/15,106.70",
      "provenance": [],
      "collapsed_sections": [],
      "toc_visible": true
    },
    "kernelspec": {
      "display_name": "Python 3",
      "name": "python3"
    }
  },
  "cells": [
    {
      "cell_type": "markdown",
      "metadata": {
        "id": "oZ-C2Dgetg37"
      },
      "source": [
        "# **Homework 6 - Generative Adversarial Network**\n",
        "\n",
        "This is the example code of homework 6 of the machine learning course by Prof. Hung-yi Lee.\n",
        "\n",
        "\n",
        "In this homework, you are required to build a generative adversarial  network for anime face generation.\n"
      ]
    },
    {
      "cell_type": "markdown",
      "metadata": {
        "id": "JTBkY5QFf3QM"
      },
      "source": [
        "## Set up the environment\n"
      ]
    },
    {
      "cell_type": "markdown",
      "metadata": {
        "id": "Y7y4wyYdEABR"
      },
      "source": [
        "### Packages Installation"
      ]
    },
    {
      "cell_type": "code",
      "metadata": {
        "colab": {
          "base_uri": "https://localhost:8080/"
        },
        "id": "3UvsHIp4I9In",
        "outputId": "30d9dd58-2272-4dfd-a0e0-841c0b962c6d"
      },
      "source": [
        "!nvidia-smi -L"
      ],
      "execution_count": null,
      "outputs": [
        {
          "output_type": "stream",
          "text": [
            "GPU 0: Tesla T4 (UUID: GPU-62df470c-2f68-4dd5-56cb-4ae5e6f10a82)\n"
          ],
          "name": "stdout"
        }
      ]
    },
    {
      "cell_type": "code",
      "metadata": {
        "colab": {
          "base_uri": "https://localhost:8080/",
          "height": 1000
        },
        "id": "P0F6s61R--WB",
        "outputId": "f2a7e4fc-7c41-47c0-8037-75aa3bdad21d"
      },
      "source": [
        "!pip install stylegan2_pytorch"
      ],
      "execution_count": null,
      "outputs": [
        {
          "output_type": "stream",
          "text": [
            "Collecting stylegan2_pytorch\n",
            "  Downloading https://files.pythonhosted.org/packages/9a/ea/33e16a288f5e9962fa5f7243a79762665a75334c62a87a496ddebd99ed6c/stylegan2_pytorch-1.8.1-py3-none-any.whl\n",
            "Collecting fire\n",
            "\u001b[?25l  Downloading https://files.pythonhosted.org/packages/11/07/a119a1aa04d37bc819940d95ed7e135a7dcca1c098123a3764a6dcace9e7/fire-0.4.0.tar.gz (87kB)\n",
            "\u001b[K     |████████████████████████████████| 92kB 11.9MB/s \n",
            "\u001b[?25hCollecting kornia\n",
            "\u001b[?25l  Downloading https://files.pythonhosted.org/packages/0e/34/ae98eca1eee195a93e466100b451b0c962b22746e702f66f40099f798ed5/kornia-0.5.1-py2.py3-none-any.whl (275kB)\n",
            "\u001b[K     |████████████████████████████████| 276kB 37.5MB/s \n",
            "\u001b[?25hRequirement already satisfied: torch in /usr/local/lib/python3.7/dist-packages (from stylegan2_pytorch) (1.8.1+cu101)\n",
            "Collecting vector-quantize-pytorch>=0.1.0\n",
            "  Downloading https://files.pythonhosted.org/packages/a2/7b/afcdb6c49019a288e8f085f6edf5cf86f15fc176ddf0e0b4dffb66fa1dd5/vector_quantize_pytorch-0.1.0.tar.gz\n",
            "Requirement already satisfied: pillow in /usr/local/lib/python3.7/dist-packages (from stylegan2_pytorch) (7.1.2)\n",
            "Collecting contrastive-learner>=0.1.0\n",
            "  Downloading https://files.pythonhosted.org/packages/7e/19/a3d1b4f9c19758c8000dd13b40789791f06bb9bd9922d7e28c4b2a3b41cb/contrastive_learner-0.1.1-py3-none-any.whl\n",
            "Collecting retry\n",
            "  Downloading https://files.pythonhosted.org/packages/4b/0d/53aea75710af4528a25ed6837d71d117602b01946b307a3912cb3cfcbcba/retry-0.9.2-py2.py3-none-any.whl\n",
            "Collecting aim\n",
            "\u001b[?25l  Downloading https://files.pythonhosted.org/packages/23/b1/33ee1d060640d2ae27ee79ccead0d5f45ded36250bca5c1c6860c841ac91/aim-2.3.0-py2.py3-none-any.whl (154kB)\n",
            "\u001b[K     |████████████████████████████████| 163kB 49.6MB/s \n",
            "\u001b[?25hCollecting einops\n",
            "  Downloading https://files.pythonhosted.org/packages/5d/a0/9935e030634bf60ecd572c775f64ace82ceddf2f504a5fd3902438f07090/einops-0.3.0-py2.py3-none-any.whl\n",
            "Requirement already satisfied: tqdm in /usr/local/lib/python3.7/dist-packages (from stylegan2_pytorch) (4.41.1)\n",
            "Requirement already satisfied: numpy in /usr/local/lib/python3.7/dist-packages (from stylegan2_pytorch) (1.19.5)\n",
            "Requirement already satisfied: torchvision in /usr/local/lib/python3.7/dist-packages (from stylegan2_pytorch) (0.9.1+cu101)\n",
            "Requirement already satisfied: six in /usr/local/lib/python3.7/dist-packages (from fire->stylegan2_pytorch) (1.15.0)\n",
            "Requirement already satisfied: termcolor in /usr/local/lib/python3.7/dist-packages (from fire->stylegan2_pytorch) (1.1.0)\n",
            "Requirement already satisfied: typing-extensions in /usr/local/lib/python3.7/dist-packages (from torch->stylegan2_pytorch) (3.7.4.3)\n",
            "Requirement already satisfied: py<2.0.0,>=1.4.26 in /usr/local/lib/python3.7/dist-packages (from retry->stylegan2_pytorch) (1.10.0)\n",
            "Requirement already satisfied: decorator>=3.4.2 in /usr/local/lib/python3.7/dist-packages (from retry->stylegan2_pytorch) (4.4.2)\n",
            "Requirement already satisfied: protobuf>=3.11.0 in /usr/local/lib/python3.7/dist-packages (from aim->stylegan2_pytorch) (3.12.4)\n",
            "Collecting GitPython>=3.0.4\n",
            "\u001b[?25l  Downloading https://files.pythonhosted.org/packages/f3/2b/92c1bab288255e6bf3ec9e11218eb19ce507f374e7f253029a46e3c1cb1e/GitPython-3.1.16-py3-none-any.whl (166kB)\n",
            "\u001b[K     |████████████████████████████████| 174kB 47.7MB/s \n",
            "\u001b[?25hCollecting py3nvml>=0.2.5\n",
            "\u001b[?25l  Downloading https://files.pythonhosted.org/packages/53/b3/cb30dd8cc1198ae3fdb5a320ca7986d7ca76e23d16415067eafebff8685f/py3nvml-0.2.6-py3-none-any.whl (55kB)\n",
            "\u001b[K     |████████████████████████████████| 61kB 10.6MB/s \n",
            "\u001b[?25hCollecting psutil>=5.6.7\n",
            "\u001b[?25l  Downloading https://files.pythonhosted.org/packages/84/da/f7efdcf012b51506938553dbe302aecc22f3f43abd5cffa8320e8e0588d5/psutil-5.8.0-cp37-cp37m-manylinux2010_x86_64.whl (296kB)\n",
            "\u001b[K     |████████████████████████████████| 296kB 50.5MB/s \n",
            "\u001b[?25hCollecting aimrecords==0.0.7\n",
            "  Downloading https://files.pythonhosted.org/packages/53/13/207ebb5b2315640a68378c31cb31cfe1182373d11a813bd52219c83700a7/aimrecords-0.0.7-py2.py3-none-any.whl\n",
            "Collecting anytree>=2.8.0\n",
            "\u001b[?25l  Downloading https://files.pythonhosted.org/packages/a8/65/be23d8c3ecd68d40541d49812cd94ed0f3ee37eb88669ca15df0e43daed1/anytree-2.8.0-py2.py3-none-any.whl (41kB)\n",
            "\u001b[K     |████████████████████████████████| 51kB 9.2MB/s \n",
            "\u001b[?25hCollecting pyrser>=0.2.0\n",
            "\u001b[?25l  Downloading https://files.pythonhosted.org/packages/b2/c1/172359000c21c146aadf887f4d788a9fa95f7fcf466a52634add2933fcf3/pyrser-0.2.0-py2.py3-none-any.whl (70kB)\n",
            "\u001b[K     |████████████████████████████████| 71kB 11.2MB/s \n",
            "\u001b[?25hRequirement already satisfied: click>=6.7 in /usr/local/lib/python3.7/dist-packages (from aim->stylegan2_pytorch) (7.1.2)\n",
            "Requirement already satisfied: requests>=2.0.0 in /usr/local/lib/python3.7/dist-packages (from aim->stylegan2_pytorch) (2.23.0)\n",
            "Collecting docker>=4.1.0\n",
            "\u001b[?25l  Downloading https://files.pythonhosted.org/packages/b2/5a/f988909dfed18c1ac42ad8d9e611e6c5657e270aa6eb68559985dbb69c13/docker-5.0.0-py2.py3-none-any.whl (146kB)\n",
            "\u001b[K     |████████████████████████████████| 153kB 50.6MB/s \n",
            "\u001b[?25hRequirement already satisfied: setuptools in /usr/local/lib/python3.7/dist-packages (from protobuf>=3.11.0->aim->stylegan2_pytorch) (56.1.0)\n",
            "Collecting gitdb<5,>=4.0.1\n",
            "\u001b[?25l  Downloading https://files.pythonhosted.org/packages/ea/e8/f414d1a4f0bbc668ed441f74f44c116d9816833a48bf81d22b697090dba8/gitdb-4.0.7-py3-none-any.whl (63kB)\n",
            "\u001b[K     |████████████████████████████████| 71kB 11.6MB/s \n",
            "\u001b[?25hCollecting xmltodict\n",
            "  Downloading https://files.pythonhosted.org/packages/28/fd/30d5c1d3ac29ce229f6bdc40bbc20b28f716e8b363140c26eff19122d8a5/xmltodict-0.12.0-py2.py3-none-any.whl\n",
            "Collecting base58==2.0.1\n",
            "  Downloading https://files.pythonhosted.org/packages/3c/03/58572025c77b9e6027155b272a1b96298e711cd4f95c24967f7137ab0c4b/base58-2.0.1-py3-none-any.whl\n",
            "Requirement already satisfied: chardet<4,>=3.0.2 in /usr/local/lib/python3.7/dist-packages (from requests>=2.0.0->aim->stylegan2_pytorch) (3.0.4)\n",
            "Requirement already satisfied: idna<3,>=2.5 in /usr/local/lib/python3.7/dist-packages (from requests>=2.0.0->aim->stylegan2_pytorch) (2.10)\n",
            "Requirement already satisfied: certifi>=2017.4.17 in /usr/local/lib/python3.7/dist-packages (from requests>=2.0.0->aim->stylegan2_pytorch) (2020.12.5)\n",
            "Requirement already satisfied: urllib3!=1.25.0,!=1.25.1,<1.26,>=1.21.1 in /usr/local/lib/python3.7/dist-packages (from requests>=2.0.0->aim->stylegan2_pytorch) (1.24.3)\n",
            "Collecting websocket-client>=0.32.0\n",
            "\u001b[?25l  Downloading https://files.pythonhosted.org/packages/f7/0c/d52a2a63512a613817846d430d16a8fbe5ea56dd889e89c68facf6b91cb6/websocket_client-0.59.0-py2.py3-none-any.whl (67kB)\n",
            "\u001b[K     |████████████████████████████████| 71kB 10.5MB/s \n",
            "\u001b[?25hCollecting smmap<5,>=3.0.1\n",
            "  Downloading https://files.pythonhosted.org/packages/68/ee/d540eb5e5996eb81c26ceffac6ee49041d473bc5125f2aa995cf51ec1cf1/smmap-4.0.0-py2.py3-none-any.whl\n",
            "Building wheels for collected packages: fire, vector-quantize-pytorch\n",
            "  Building wheel for fire (setup.py) ... \u001b[?25l\u001b[?25hdone\n",
            "  Created wheel for fire: filename=fire-0.4.0-py2.py3-none-any.whl size=115928 sha256=a188ad842c50b22d16d9ce58505c1a40811ca791843fd63c2b89e3f0b9c8ec04\n",
            "  Stored in directory: /root/.cache/pip/wheels/af/19/30/1ea0cad502dcb4e66ed5a690279628c827aea38bbbab75d5ed\n",
            "  Building wheel for vector-quantize-pytorch (setup.py) ... \u001b[?25l\u001b[?25hdone\n",
            "  Created wheel for vector-quantize-pytorch: filename=vector_quantize_pytorch-0.1.0-cp37-none-any.whl size=2576 sha256=29439f8677cce588f42d1dfca82080f2a6b89a5aa2a5a4dd5dc229d0519f55ba\n",
            "  Stored in directory: /root/.cache/pip/wheels/10/68/a9/2eb0d1f485a2babf71ac5e471c9d45703cf2a2cc8686f780d2\n",
            "Successfully built fire vector-quantize-pytorch\n",
            "Installing collected packages: fire, kornia, vector-quantize-pytorch, contrastive-learner, retry, smmap, gitdb, GitPython, xmltodict, py3nvml, psutil, base58, aimrecords, anytree, pyrser, websocket-client, docker, aim, einops, stylegan2-pytorch\n",
            "  Found existing installation: psutil 5.4.8\n",
            "    Uninstalling psutil-5.4.8:\n",
            "      Successfully uninstalled psutil-5.4.8\n",
            "Successfully installed GitPython-3.1.16 aim-2.3.0 aimrecords-0.0.7 anytree-2.8.0 base58-2.0.1 contrastive-learner-0.1.1 docker-5.0.0 einops-0.3.0 fire-0.4.0 gitdb-4.0.7 kornia-0.5.1 psutil-5.8.0 py3nvml-0.2.6 pyrser-0.2.0 retry-0.9.2 smmap-4.0.0 stylegan2-pytorch-1.8.1 vector-quantize-pytorch-0.1.0 websocket-client-0.59.0 xmltodict-0.12.0\n"
          ],
          "name": "stdout"
        },
        {
          "output_type": "display_data",
          "data": {
            "application/vnd.colab-display-data+json": {
              "pip_warning": {
                "packages": [
                  "psutil"
                ]
              }
            }
          },
          "metadata": {
            "tags": []
          }
        }
      ]
    },
    {
      "cell_type": "code",
      "metadata": {
        "colab": {
          "base_uri": "https://localhost:8080/"
        },
        "id": "4TXKAS0zIxZb",
        "outputId": "b596ed6d-a73d-4388-bf39-ef0b45f99951"
      },
      "source": [
        "from google.colab import drive\n",
        "drive.mount('/content/drive')"
      ],
      "execution_count": null,
      "outputs": [
        {
          "output_type": "stream",
          "text": [
            "Mounted at /content/drive\n"
          ],
          "name": "stdout"
        }
      ]
    },
    {
      "cell_type": "code",
      "metadata": {
        "id": "6IQB485dD_eL"
      },
      "source": [
        "# You may replace the workspace directory if you want.\n",
        "import shutil\n",
        "from pathlib import Path\n",
        "workspace_dir = './drive/MyDrive/ML_Data/HW6'"
      ],
      "execution_count": null,
      "outputs": []
    },
    {
      "cell_type": "markdown",
      "metadata": {
        "id": "2NFjuZTPDxLn"
      },
      "source": [
        "### Download the dataset\n",
        "**Please use the link according to the last digit of your student ID first!**\n",
        "\n",
        "If all download links fail, please follow [here](https://drive.google.com/drive/folders/13T0Pa_WGgQxNkqZk781qhc5T9-zfh19e).\n",
        "\n",
        "* To open the file using your browser, use the link below (replace the id first!):\n",
        "https://drive.google.com/file/d/REPLACE_WITH_ID\n",
        "* e.g. https://drive.google.com/file/d/1IGrTr308mGAaCKotpkkm8wTKlWs9Jq-p"
      ]
    },
    {
      "cell_type": "code",
      "metadata": {
        "colab": {
          "base_uri": "https://localhost:8080/"
        },
        "id": "uZomvVA2f607",
        "outputId": "4b7436ae-6534-4865-c0b1-d36f85a61b6f"
      },
      "source": [
        "# download crypko_data.zip\n",
        "crypko_data = Path('./crypko_data.zip')\n",
        "if crypko_data.exists():\n",
        "  print('crypko_data.zip exists')\n",
        "else:\n",
        "  !gdown --id 1DAgEsM0PAhAoixL9ioM761aygjZpPvFH --output \"./crypko_data.zip\"\n",
        "\n",
        "# unzip\n",
        "data_dir = Path('./faces')\n",
        "if data_dir.exists():\n",
        "  print('already unzip')\n",
        "else:\n",
        "  !unzip -q \"./crypko_data.zip\" -d \".\""
      ],
      "execution_count": null,
      "outputs": [
        {
          "output_type": "stream",
          "text": [
            "Downloading...\n",
            "From: https://drive.google.com/uc?id=1DAgEsM0PAhAoixL9ioM761aygjZpPvFH\n",
            "To: /content/crypko_data.zip\n",
            "452MB [00:21, 20.8MB/s]\n"
          ],
          "name": "stdout"
        }
      ]
    },
    {
      "cell_type": "code",
      "metadata": {
        "colab": {
          "base_uri": "https://localhost:8080/"
        },
        "id": "XAOS_Ozd748a",
        "outputId": "150e4652-04f2-4a64-9b86-d0e75e9aaffd"
      },
      "source": [
        "# training\n",
        "!stylegan2_pytorch --data ./faces \\\n",
        "--name HW6 \\\n",
        "--models_dir drive/MyDrive/ML_Data/tr_models \\\n",
        "--results_dir drive/MyDrive/ML_Data/tr_results \\\n",
        "--image-size 64 \\\n",
        "--top-k-training \\\n",
        "--generator-top-k-frac 0.5 \\\n",
        "--generator-top-k-gamma 0.99 \\\n",
        "--num-train-steps 28000 \\\n",
        "--batch-size 8 \\\n",
        "--gradient-accumulate-every 5 \\\n",
        "--network-capacity 64 \\\n",
        "--attn-layers [1, 2]\n",
        "\n",
        "# generate\n",
        "!stylegan2_pytorch --name HW6 \\\n",
        "--results_dir ./drive/MyDrive/ML_Data/results \\\n",
        "--models_dir ./drive/MyDrive/ML_Data/tr_models \\\n",
        "--generate --num-generate 1000 --num_image_tiles 1"
      ],
      "execution_count": null,
      "outputs": [
        {
          "output_type": "stream",
          "text": [
            "continuing from previous epoch - 28\n",
            "loading from version 1.8.1\n",
            "100% 1000/1000 [00:58<00:00, 17.04it/s]\n",
            "sample images generated at ./drive/MyDrive/ML_Data/results/HW6/generated-05-13-2021_11-46-16\n"
          ],
          "name": "stdout"
        }
      ]
    },
    {
      "cell_type": "markdown",
      "metadata": {
        "id": "6B04ATOTHc4F"
      },
      "source": [
        "### Compress the generated images using **tar**.\n"
      ]
    },
    {
      "cell_type": "code",
      "metadata": {
        "colab": {
          "base_uri": "https://localhost:8080/"
        },
        "id": "W4OVNp6dgJq2",
        "outputId": "40c84b6b-0a0a-4471-d1e7-b5e67c375769"
      },
      "source": [
        "%cd drive/MyDrive/ML_Data/results/HW6/\n",
        "!tar -zcf ../../images.tgz *ema.jpg\n",
        "%cd ../../../../../../"
      ],
      "execution_count": null,
      "outputs": [
        {
          "output_type": "stream",
          "text": [
            "/content/drive/.shortcut-targets-by-id/1Y_IuR3-1TKapknwiuxJyHxskDdSEFhbu/ML_Data/results/HW6\n",
            "/content\n"
          ],
          "name": "stdout"
        }
      ]
    },
    {
      "cell_type": "markdown",
      "metadata": {
        "id": "Qypcw966iRhg"
      },
      "source": [
        "# Reference\n",
        "https://github.com/lucidrains/stylegan2-pytorch\n",
        "\n",
        "https://arxiv.org/abs/2002.06224\n",
        "\n",
        "https://arxiv.org/abs/1912.04958\n"
      ]
    }
  ]
}